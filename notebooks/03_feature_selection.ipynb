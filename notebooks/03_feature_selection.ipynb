{
 "cells": [
  {
   "cell_type": "code",
   "execution_count": 2,
   "id": "bc3a6429",
   "metadata": {},
   "outputs": [],
   "source": [
    "import numpy as np\n",
    "import pandas as pd\n",
    "from sklearn.ensemble import RandomForestClassifier\n",
    "import matplotlib.pyplot as plt\n",
    "from sklearn.linear_model import LogisticRegression\n",
    "from sklearn.feature_selection import RFE, SelectKBest, chi2"
   ]
  },
  {
   "cell_type": "markdown",
   "id": "8fa6c8a2",
   "metadata": {},
   "source": [
    "# load Data"
   ]
  },
  {
   "cell_type": "code",
   "execution_count": 3,
   "id": "314b2165",
   "metadata": {},
   "outputs": [
    {
     "data": {
      "text/html": [
       "<div>\n",
       "<style scoped>\n",
       "    .dataframe tbody tr th:only-of-type {\n",
       "        vertical-align: middle;\n",
       "    }\n",
       "\n",
       "    .dataframe tbody tr th {\n",
       "        vertical-align: top;\n",
       "    }\n",
       "\n",
       "    .dataframe thead th {\n",
       "        text-align: right;\n",
       "    }\n",
       "</style>\n",
       "<table border=\"1\" class=\"dataframe\">\n",
       "  <thead>\n",
       "    <tr style=\"text-align: right;\">\n",
       "      <th></th>\n",
       "      <th>PC1</th>\n",
       "      <th>PC2</th>\n",
       "      <th>PC3</th>\n",
       "      <th>PC4</th>\n",
       "      <th>PC5</th>\n",
       "      <th>PC6</th>\n",
       "      <th>PC7</th>\n",
       "      <th>PC8</th>\n",
       "      <th>PC9</th>\n",
       "      <th>PC10</th>\n",
       "      <th>PC11</th>\n",
       "      <th>PC12</th>\n",
       "      <th>PC13</th>\n",
       "      <th>num</th>\n",
       "    </tr>\n",
       "  </thead>\n",
       "  <tbody>\n",
       "    <tr>\n",
       "      <th>0</th>\n",
       "      <td>-0.017550</td>\n",
       "      <td>-0.237562</td>\n",
       "      <td>1.130701</td>\n",
       "      <td>-0.690074</td>\n",
       "      <td>0.292001</td>\n",
       "      <td>0.746005</td>\n",
       "      <td>-0.727584</td>\n",
       "      <td>-0.910318</td>\n",
       "      <td>0.184558</td>\n",
       "      <td>-0.343690</td>\n",
       "      <td>1.367181</td>\n",
       "      <td>0.350511</td>\n",
       "      <td>0.598685</td>\n",
       "      <td>0</td>\n",
       "    </tr>\n",
       "    <tr>\n",
       "      <th>1</th>\n",
       "      <td>-1.134815</td>\n",
       "      <td>-0.819412</td>\n",
       "      <td>0.053161</td>\n",
       "      <td>0.362202</td>\n",
       "      <td>0.174615</td>\n",
       "      <td>0.095826</td>\n",
       "      <td>0.764537</td>\n",
       "      <td>-0.511039</td>\n",
       "      <td>-0.343816</td>\n",
       "      <td>0.239566</td>\n",
       "      <td>-0.109062</td>\n",
       "      <td>-0.552569</td>\n",
       "      <td>-0.677350</td>\n",
       "      <td>1</td>\n",
       "    </tr>\n",
       "    <tr>\n",
       "      <th>2</th>\n",
       "      <td>-1.865945</td>\n",
       "      <td>-0.325919</td>\n",
       "      <td>0.117007</td>\n",
       "      <td>0.154059</td>\n",
       "      <td>0.059297</td>\n",
       "      <td>-0.125068</td>\n",
       "      <td>-0.099045</td>\n",
       "      <td>-0.030261</td>\n",
       "      <td>-0.041109</td>\n",
       "      <td>0.854383</td>\n",
       "      <td>-0.199566</td>\n",
       "      <td>0.011509</td>\n",
       "      <td>0.022689</td>\n",
       "      <td>1</td>\n",
       "    </tr>\n",
       "    <tr>\n",
       "      <th>3</th>\n",
       "      <td>0.897661</td>\n",
       "      <td>0.596087</td>\n",
       "      <td>-0.085740</td>\n",
       "      <td>-0.633255</td>\n",
       "      <td>0.388291</td>\n",
       "      <td>0.411199</td>\n",
       "      <td>0.406543</td>\n",
       "      <td>-0.039662</td>\n",
       "      <td>-0.521288</td>\n",
       "      <td>0.125395</td>\n",
       "      <td>0.995098</td>\n",
       "      <td>-0.390647</td>\n",
       "      <td>-0.211833</td>\n",
       "      <td>0</td>\n",
       "    </tr>\n",
       "    <tr>\n",
       "      <th>4</th>\n",
       "      <td>1.314315</td>\n",
       "      <td>-0.852504</td>\n",
       "      <td>0.291158</td>\n",
       "      <td>0.523258</td>\n",
       "      <td>0.308332</td>\n",
       "      <td>-0.268851</td>\n",
       "      <td>-0.274715</td>\n",
       "      <td>0.190862</td>\n",
       "      <td>0.800398</td>\n",
       "      <td>0.029966</td>\n",
       "      <td>-0.049335</td>\n",
       "      <td>-0.180443</td>\n",
       "      <td>0.074683</td>\n",
       "      <td>0</td>\n",
       "    </tr>\n",
       "  </tbody>\n",
       "</table>\n",
       "</div>"
      ],
      "text/plain": [
       "        PC1       PC2       PC3       PC4       PC5       PC6       PC7  \\\n",
       "0 -0.017550 -0.237562  1.130701 -0.690074  0.292001  0.746005 -0.727584   \n",
       "1 -1.134815 -0.819412  0.053161  0.362202  0.174615  0.095826  0.764537   \n",
       "2 -1.865945 -0.325919  0.117007  0.154059  0.059297 -0.125068 -0.099045   \n",
       "3  0.897661  0.596087 -0.085740 -0.633255  0.388291  0.411199  0.406543   \n",
       "4  1.314315 -0.852504  0.291158  0.523258  0.308332 -0.268851 -0.274715   \n",
       "\n",
       "        PC8       PC9      PC10      PC11      PC12      PC13  num  \n",
       "0 -0.910318  0.184558 -0.343690  1.367181  0.350511  0.598685    0  \n",
       "1 -0.511039 -0.343816  0.239566 -0.109062 -0.552569 -0.677350    1  \n",
       "2 -0.030261 -0.041109  0.854383 -0.199566  0.011509  0.022689    1  \n",
       "3 -0.039662 -0.521288  0.125395  0.995098 -0.390647 -0.211833    0  \n",
       "4  0.190862  0.800398  0.029966 -0.049335 -0.180443  0.074683    0  "
      ]
     },
     "execution_count": 3,
     "metadata": {},
     "output_type": "execute_result"
    }
   ],
   "source": [
    "df = pd.read_csv('..\\\\data\\\\heart_disease_PCA.csv')\n",
    "df.head()"
   ]
  },
  {
   "cell_type": "code",
   "execution_count": 4,
   "id": "557eecd4",
   "metadata": {},
   "outputs": [],
   "source": [
    "y= df['num']\n",
    "x= df.drop('num',axis=1)"
   ]
  },
  {
   "cell_type": "markdown",
   "id": "588bbd0f",
   "metadata": {},
   "source": [
    "# Feature importance with Random Forest"
   ]
  },
  {
   "cell_type": "code",
   "execution_count": 5,
   "id": "5b7ba770",
   "metadata": {},
   "outputs": [],
   "source": [
    "clf = RandomForestClassifier(n_estimators=100,random_state=42)\n",
    "clf.fit(x,y)\n",
    "importances = pd.Series(clf.feature_importances_ , index=x.columns).sort_values(ascending=False)"
   ]
  },
  {
   "cell_type": "markdown",
   "id": "1dd91eab",
   "metadata": {},
   "source": [
    "## Create a bar plot for feature importance"
   ]
  },
  {
   "cell_type": "code",
   "execution_count": 6,
   "id": "474ae4c9",
   "metadata": {},
   "outputs": [
    {
     "data": {
      "text/plain": [
       "Text(0.5, 1.0, 'Feature Importance from Random Forest')"
      ]
     },
     "execution_count": 6,
     "metadata": {},
     "output_type": "execute_result"
    },
    {
     "data": {
      "image/png": "[encoded data removed]",
      "text/plain": [
       "<Figure size 1000x800 with 1 Axes>"
      ]
     },
     "metadata": {},
     "output_type": "display_data"
    }
   ],
   "source": [
    "plt.figure(figsize=(10, 8))\n",
    "importances.plot.barh()\n",
    "plt.title('Feature Importance from Random Forest')"
   ]
  },
  {
   "cell_type": "markdown",
   "id": "93246114",
   "metadata": {},
   "source": [
    "# Recursive Feature Elimination (RFE) "
   ]
  },
  {
   "cell_type": "code",
   "execution_count": 9,
   "id": "b41217d3",
   "metadata": {},
   "outputs": [
    {
     "name": "stdout",
     "output_type": "stream",
     "text": [
      "RFE Ranking:\n",
      " PC1     1\n",
      "PC4     1\n",
      "PC5     1\n",
      "PC6     1\n",
      "PC8     1\n",
      "PC9     1\n",
      "PC10    1\n",
      "PC11    1\n",
      "PC12    1\n",
      "PC13    1\n",
      "PC7     2\n",
      "PC3     3\n",
      "PC2     4\n",
      "dtype: int32\n"
     ]
    }
   ],
   "source": [
    "model = LogisticRegression(max_iter=5000,random_state=42)\n",
    "rfe = RFE(model,n_features_to_select=10)\n",
    "rfe.fit(x,y)\n",
    "rfe_ranke = pd.Series(rfe.ranking_,index=x.columns)\n",
    "print(\"RFE Ranking:\\n\", rfe_ranke.sort_values())"
   ]
  },
  {
   "cell_type": "markdown",
   "id": "5db7996c",
   "metadata": {},
   "source": [
    "# Chi-Square Test"
   ]
  },
  {
   "cell_type": "code",
   "execution_count": 10,
   "id": "bf422ebf",
   "metadata": {},
   "outputs": [
    {
     "name": "stdout",
     "output_type": "stream",
     "text": [
      "Chi-Square Scores:\n",
      " PC10    4.810857\n",
      "PC9     4.177002\n",
      "PC13    3.248111\n",
      "PC7     3.125992\n",
      "PC1     1.192228\n",
      "PC12    0.352769\n",
      "PC2     0.197238\n",
      "PC11    0.147794\n",
      "PC4     0.126981\n",
      "PC3     0.062150\n",
      "PC5     0.037347\n",
      "PC8     0.004341\n",
      "PC6     0.000633\n",
      "dtype: float64\n"
     ]
    }
   ],
   "source": [
    "chi_selector = SelectKBest(chi2,k=10)\n",
    "chi_selector.fit(x.abs(),y)\n",
    "chi_scores = pd.Series(chi_selector.scores_,index=x.columns).sort_values(ascending=False)\n",
    "print(\"Chi-Square Scores:\\n\", chi_scores)"
   ]
  },
  {
   "cell_type": "markdown",
   "id": "ccd0405d",
   "metadata": {},
   "source": [
    "# Select only the most relevant features"
   ]
  },
  {
   "cell_type": "code",
   "execution_count": 11,
   "id": "0d72f4f5",
   "metadata": {},
   "outputs": [
    {
     "name": "stderr",
     "output_type": "stream",
     "text": [
      "C:\\Users\\abdoa\\AppData\\Local\\Temp\\ipykernel_8636\\1165278104.py:3: SettingWithCopyWarning: \n",
      "A value is trying to be set on a copy of a slice from a DataFrame.\n",
      "Try using .loc[row_indexer,col_indexer] = value instead\n",
      "\n",
      "See the caveats in the documentation: https://pandas.pydata.org/pandas-docs/stable/user_guide/indexing.html#returning-a-view-versus-a-copy\n",
      "  selected_df['num'] = y\n"
     ]
    }
   ],
   "source": [
    "top_features = importances.head(9).index\n",
    "selected_df = x[top_features]\n",
    "selected_df['num'] = y\n"
   ]
  },
  {
   "cell_type": "code",
   "execution_count": 12,
   "id": "2335c711",
   "metadata": {},
   "outputs": [
    {
     "data": {
      "text/html": [
       "<div>\n",
       "<style scoped>\n",
       "    .dataframe tbody tr th:only-of-type {\n",
       "        vertical-align: middle;\n",
       "    }\n",
       "\n",
       "    .dataframe tbody tr th {\n",
       "        vertical-align: top;\n",
       "    }\n",
       "\n",
       "    .dataframe thead th {\n",
       "        text-align: right;\n",
       "    }\n",
       "</style>\n",
       "<table border=\"1\" class=\"dataframe\">\n",
       "  <thead>\n",
       "    <tr style=\"text-align: right;\">\n",
       "      <th></th>\n",
       "      <th>PC1</th>\n",
       "      <th>PC5</th>\n",
       "      <th>PC6</th>\n",
       "      <th>PC10</th>\n",
       "      <th>PC7</th>\n",
       "      <th>PC9</th>\n",
       "      <th>PC12</th>\n",
       "      <th>PC13</th>\n",
       "      <th>PC8</th>\n",
       "      <th>num</th>\n",
       "    </tr>\n",
       "  </thead>\n",
       "  <tbody>\n",
       "    <tr>\n",
       "      <th>0</th>\n",
       "      <td>-0.017550</td>\n",
       "      <td>0.292001</td>\n",
       "      <td>0.746005</td>\n",
       "      <td>-0.343690</td>\n",
       "      <td>-0.727584</td>\n",
       "      <td>0.184558</td>\n",
       "      <td>0.350511</td>\n",
       "      <td>0.598685</td>\n",
       "      <td>-0.910318</td>\n",
       "      <td>0</td>\n",
       "    </tr>\n",
       "    <tr>\n",
       "      <th>1</th>\n",
       "      <td>-1.134815</td>\n",
       "      <td>0.174615</td>\n",
       "      <td>0.095826</td>\n",
       "      <td>0.239566</td>\n",
       "      <td>0.764537</td>\n",
       "      <td>-0.343816</td>\n",
       "      <td>-0.552569</td>\n",
       "      <td>-0.677350</td>\n",
       "      <td>-0.511039</td>\n",
       "      <td>1</td>\n",
       "    </tr>\n",
       "    <tr>\n",
       "      <th>2</th>\n",
       "      <td>-1.865945</td>\n",
       "      <td>0.059297</td>\n",
       "      <td>-0.125068</td>\n",
       "      <td>0.854383</td>\n",
       "      <td>-0.099045</td>\n",
       "      <td>-0.041109</td>\n",
       "      <td>0.011509</td>\n",
       "      <td>0.022689</td>\n",
       "      <td>-0.030261</td>\n",
       "      <td>1</td>\n",
       "    </tr>\n",
       "    <tr>\n",
       "      <th>3</th>\n",
       "      <td>0.897661</td>\n",
       "      <td>0.388291</td>\n",
       "      <td>0.411199</td>\n",
       "      <td>0.125395</td>\n",
       "      <td>0.406543</td>\n",
       "      <td>-0.521288</td>\n",
       "      <td>-0.390647</td>\n",
       "      <td>-0.211833</td>\n",
       "      <td>-0.039662</td>\n",
       "      <td>0</td>\n",
       "    </tr>\n",
       "    <tr>\n",
       "      <th>4</th>\n",
       "      <td>1.314315</td>\n",
       "      <td>0.308332</td>\n",
       "      <td>-0.268851</td>\n",
       "      <td>0.029966</td>\n",
       "      <td>-0.274715</td>\n",
       "      <td>0.800398</td>\n",
       "      <td>-0.180443</td>\n",
       "      <td>0.074683</td>\n",
       "      <td>0.190862</td>\n",
       "      <td>0</td>\n",
       "    </tr>\n",
       "  </tbody>\n",
       "</table>\n",
       "</div>"
      ],
      "text/plain": [
       "        PC1       PC5       PC6      PC10       PC7       PC9      PC12  \\\n",
       "0 -0.017550  0.292001  0.746005 -0.343690 -0.727584  0.184558  0.350511   \n",
       "1 -1.134815  0.174615  0.095826  0.239566  0.764537 -0.343816 -0.552569   \n",
       "2 -1.865945  0.059297 -0.125068  0.854383 -0.099045 -0.041109  0.011509   \n",
       "3  0.897661  0.388291  0.411199  0.125395  0.406543 -0.521288 -0.390647   \n",
       "4  1.314315  0.308332 -0.268851  0.029966 -0.274715  0.800398 -0.180443   \n",
       "\n",
       "       PC13       PC8  num  \n",
       "0  0.598685 -0.910318    0  \n",
       "1 -0.677350 -0.511039    1  \n",
       "2  0.022689 -0.030261    1  \n",
       "3 -0.211833 -0.039662    0  \n",
       "4  0.074683  0.190862    0  "
      ]
     },
     "execution_count": 12,
     "metadata": {},
     "output_type": "execute_result"
    }
   ],
   "source": [
    "selected_df.head()"
   ]
  },
  {
   "cell_type": "markdown",
   "id": "e988ae29",
   "metadata": {},
   "source": [
    "# saveing Data set"
   ]
  },
  {
   "cell_type": "code",
   "execution_count": 13,
   "id": "30da74c3",
   "metadata": {},
   "outputs": [],
   "source": [
    "selected_df.to_csv('../data/heart_disease.csv', index=False)"
   ]
  },
  {
   "cell_type": "code",
   "execution_count": null,
   "id": "1073fad7",
   "metadata": {},
   "outputs": [],
   "source": []
  }
 ],
 "metadata": {
  "kernelspec": {
   "display_name": "ml",
   "language": "python",
   "name": "python3"
  },
  "language_info": {
   "codemirror_mode": {
    "name": "ipython",
    "version": 3
   },
   "file_extension": ".py",
   "mimetype": "text/x-python",
   "name": "python",
   "nbconvert_exporter": "python",
   "pygments_lexer": "ipython3",
   "version": "3.11.9"
  }
 },
 "nbformat": 4,
 "nbformat_minor": 5
}
